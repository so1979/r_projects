{
 "cells": [
  {
   "cell_type": "markdown",
   "metadata": {},
   "source": [
    "## Exploratory Data Analysis of KickStarter Projects\n",
    "\n",
    "Here is some brief exploratory data analysis of KickStarter project data.     \n",
    "I mainly focus on seeing trends in the number of launched project in different categories.     \n",
    "Dataset was downloaded from the following URL.     \n",
    "\n",
    "https://www.kaggle.com/kemical/kickstarter-projects\n"
   ]
  },
  {
   "cell_type": "markdown",
   "metadata": {},
   "source": [
    "## Libraries"
   ]
  },
  {
   "cell_type": "code",
   "execution_count": 1,
   "metadata": {},
   "outputs": [
    {
     "name": "stderr",
     "output_type": "stream",
     "text": [
      "-- Attaching packages --------------------------------------- tidyverse 1.2.1 --\n",
      "v ggplot2 3.0.0     v purrr   0.2.5\n",
      "v tibble  1.4.2     v dplyr   0.7.6\n",
      "v tidyr   0.8.1     v stringr 1.3.1\n",
      "v readr   1.1.1     v forcats 0.3.0\n",
      "-- Conflicts ------------------------------------------ tidyverse_conflicts() --\n",
      "x dplyr::filter() masks stats::filter()\n",
      "x dplyr::lag()    masks stats::lag()\n",
      "\n",
      "Attaching package: 'lubridate'\n",
      "\n",
      "The following object is masked from 'package:base':\n",
      "\n",
      "    date\n",
      "\n"
     ]
    }
   ],
   "source": [
    "library(tidyverse)\n",
    "theme_set(theme_light())\n",
    "library(lubridate)\n",
    "options(warn = F)"
   ]
  },
  {
   "cell_type": "markdown",
   "metadata": {},
   "source": [
    "## Dataset"
   ]
  },
  {
   "cell_type": "code",
   "execution_count": 2,
   "metadata": {},
   "outputs": [
    {
     "name": "stdout",
     "output_type": "stream",
     "text": [
      "Observations: 378,661\n",
      "Variables: 15\n",
      "$ ID               <int> 1000002330, 1000003930, 1000004038, 1000007540, 10...\n",
      "$ name             <fct> The Songs of Adelaide & Abullah, Greeting From Ear...\n",
      "$ category         <fct> Poetry, Narrative Film, Narrative Film, Music, Fil...\n",
      "$ main_category    <fct> Publishing, Film & Video, Film & Video, Music, Fil...\n",
      "$ currency         <fct> GBP, USD, USD, USD, USD, USD, USD, USD, USD, USD, ...\n",
      "$ deadline         <fct> 2015-10-09, 2017-11-01, 2013-02-26, 2012-04-16, 20...\n",
      "$ goal             <dbl> 1000, 30000, 45000, 5000, 19500, 50000, 1000, 2500...\n",
      "$ launched         <fct> 2015-08-11 12:12:28, 2017-09-02 04:43:57, 2013-01-...\n",
      "$ pledged          <dbl> 0.00, 2421.00, 220.00, 1.00, 1283.00, 52375.00, 12...\n",
      "$ state            <fct> failed, failed, failed, failed, canceled, successf...\n",
      "$ backers          <int> 0, 15, 3, 1, 14, 224, 16, 40, 58, 43, 0, 100, 0, 0...\n",
      "$ country          <fct> GB, US, US, US, US, US, US, US, US, US, CA, US, US...\n",
      "$ usd.pledged      <dbl> 0.00, 100.00, 220.00, 1.00, 1283.00, 52375.00, 120...\n",
      "$ usd_pledged_real <dbl> 0.00, 2421.00, 220.00, 1.00, 1283.00, 52375.00, 12...\n",
      "$ usd_goal_real    <dbl> 1533.95, 30000.00, 45000.00, 5000.00, 19500.00, 50...\n"
     ]
    }
   ],
   "source": [
    "ks <- read.csv(\"./data/ks-projects-201801.csv\")\n",
    "\n",
    "#check the structure\n",
    "glimpse(ks)"
   ]
  },
  {
   "cell_type": "markdown",
   "metadata": {},
   "source": [
    "## Modify Data Type and add columns\n",
    "\n",
    "\n",
    "\n",
    "There are 378,661 rows with 15 variables.     \n",
    "Looks like \"launched\" and \"deadline\" are stored as factor data type.     \n",
    "They should be converted to Date data type.     \n",
    "Also, let's add month and year columns for easy aggregating.     \n",
    "\n"
   ]
  },
  {
   "cell_type": "code",
   "execution_count": 3,
   "metadata": {},
   "outputs": [
    {
     "name": "stdout",
     "output_type": "stream",
     "text": [
      "Observations: 378,661\n",
      "Variables: 17\n",
      "$ ID               <int> 1000002330, 1000003930, 1000004038, 1000007540, 10...\n",
      "$ name             <fct> The Songs of Adelaide & Abullah, Greeting From Ear...\n",
      "$ category         <fct> Poetry, Narrative Film, Narrative Film, Music, Fil...\n",
      "$ main_category    <fct> Publishing, Film & Video, Film & Video, Music, Fil...\n",
      "$ currency         <fct> GBP, USD, USD, USD, USD, USD, USD, USD, USD, USD, ...\n",
      "$ deadline         <date> 2015-10-09, 2017-11-01, 2013-02-26, 2012-04-16, 2...\n",
      "$ goal             <dbl> 1000, 30000, 45000, 5000, 19500, 50000, 1000, 2500...\n",
      "$ launched         <date> 2015-08-11, 2017-09-02, 2013-01-12, 2012-03-17, 2...\n",
      "$ pledged          <dbl> 0.00, 2421.00, 220.00, 1.00, 1283.00, 52375.00, 12...\n",
      "$ state            <fct> failed, failed, failed, failed, canceled, successf...\n",
      "$ backers          <int> 0, 15, 3, 1, 14, 224, 16, 40, 58, 43, 0, 100, 0, 0...\n",
      "$ country          <fct> GB, US, US, US, US, US, US, US, US, US, CA, US, US...\n",
      "$ usd.pledged      <dbl> 0.00, 100.00, 220.00, 1.00, 1283.00, 52375.00, 120...\n",
      "$ usd_pledged_real <dbl> 0.00, 2421.00, 220.00, 1.00, 1283.00, 52375.00, 12...\n",
      "$ usd_goal_real    <dbl> 1533.95, 30000.00, 45000.00, 5000.00, 19500.00, 50...\n",
      "$ month            <date> 2015-08-01, 2017-09-01, 2013-01-01, 2012-03-01, 2...\n",
      "$ year             <fct> 2015, 2017, 2013, 2012, 2015, 2016, 2014, 2016, 20...\n"
     ]
    }
   ],
   "source": [
    "# change launched and deadline columns to Date type\n",
    "\n",
    "ks$launched <- as.Date(ymd_hms(ks$launched))\n",
    "ks$deadline <- as.Date(ymd(ks$deadline))\n",
    "\n",
    "# add month and year columns\n",
    "\n",
    "ks$month <- as.Date(paste0(substr(as.character(ks$launched),1,8),\"01\"))\n",
    "ks$year <- as.factor(year(ks$month))\n",
    "\n",
    "#check the structure again\n",
    "glimpse(ks)"
   ]
  },
  {
   "cell_type": "markdown",
   "metadata": {},
   "source": [
    "## Inspect the data\n",
    "\n",
    "There are several columns we want to check what is in there, or how is the the distribution like.     \n",
    "I'm going to start with \"main_category\" column."
   ]
  },
  {
   "cell_type": "code",
   "execution_count": 4,
   "metadata": {},
   "outputs": [
    {
     "data": {},
     "metadata": {},
     "output_type": "display_data"
    },
    {
     "data": {
      "image/png": "[encoded data removed]",
      "text/plain": [
       "plot without title"
      ]
     },
     "metadata": {},
     "output_type": "display_data"
    }
   ],
   "source": [
    "# set plot size\n",
    "options(repr.plot.width=4, repr.plot.height=4)\n",
    "\n",
    "ks %>% \n",
    "  group_by(main_category) %>%\n",
    "  summarise(count = n()) %>%\n",
    "  ggplot(aes(x = reorder(main_category, count), y = count)) +\n",
    "  geom_bar(stat = \"identity\", fill = \"coral\", alpha = 0.8) + \n",
    "  labs(title = \"Project Count By Main Category\", x = \"Main Category\", y = \"Count\") + \n",
    "  coord_flip() \n"
   ]
  },
  {
   "cell_type": "markdown",
   "metadata": {},
   "source": [
    "There are 15 main categories.     \n",
    "The main category with the most number is \"Film & Video\", which has over 60,000 projects.     \n",
    "And the next most is \"Music\", which has over 50,000 projects.    \n",
    "\n",
    "\n",
    "Next, I'm going to see \"country\".    "
   ]
  },
  {
   "cell_type": "code",
   "execution_count": 5,
   "metadata": {},
   "outputs": [
    {
     "data": {
      "text/html": [
       "<table>\n",
       "<tbody>\n",
       "\t<tr><th scope=row>country</th><td>US    </td><td>GB    </td><td>CA    </td><td>AU    </td><td>DE    </td><td>N,0\"  </td><td>FR    </td><td>IT    </td><td>NL    </td><td>ES    </td><td>...   </td><td>DK    </td><td>IE    </td><td>CH    </td><td>NO    </td><td>HK    </td><td>BE    </td><td>AT    </td><td>SG    </td><td>LU    </td><td>JP    </td></tr>\n",
       "\t<tr><th scope=row>count</th><td>292627</td><td> 33672</td><td> 14756</td><td>  7839</td><td>  4171</td><td>  3797</td><td>  2939</td><td>  2878</td><td>  2868</td><td>  2276</td><td>...   </td><td>  1113</td><td>   811</td><td>   761</td><td>   708</td><td>   618</td><td>   617</td><td>   597</td><td>   555</td><td>    62</td><td>    40</td></tr>\n",
       "</tbody>\n",
       "</table>\n"
      ],
      "text/latex": [
       "\\begin{tabular}{r|lllllllllllllllllllllll}\n",
       "\tcountry & US     & GB     & CA     & AU     & DE     & N,0\"   & FR     & IT     & NL     & ES     & ...    & DK     & IE     & CH     & NO     & HK     & BE     & AT     & SG     & LU     & JP    \\\\\n",
       "\tcount & 292627 &  33672 &  14756 &   7839 &   4171 &   3797 &   2939 &   2878 &   2868 &   2276 & ...    &   1113 &    811 &    761 &    708 &    618 &    617 &    597 &    555 &     62 &     40\\\\\n",
       "\\end{tabular}\n"
      ],
      "text/markdown": [
       "\n",
       "| country | US     | GB     | CA     | AU     | DE     | N,0\"   | FR     | IT     | NL     | ES     | ...    | DK     | IE     | CH     | NO     | HK     | BE     | AT     | SG     | LU     | JP     | \n",
       "| count | 292627 |  33672 |  14756 |   7839 |   4171 |   3797 |   2939 |   2878 |   2868 |   2276 | ...    |   1113 |    811 |    761 |    708 |    618 |    617 |    597 |    555 |     62 |     40 | \n",
       "\n",
       "\n"
      ],
      "text/plain": [
       "        [,1]   [,2]   [,3]   [,4]   [,5]   [,6]   [,7]   [,8]   [,9]   [,10] \n",
       "country US     GB     CA     AU     DE     N,0\"   FR     IT     NL     ES    \n",
       "count   292627  33672  14756   7839   4171   3797   2939   2878   2868   2276\n",
       "        [,11] [,12]  [,13]  [,14]  [,15]  [,16]  [,17]  [,18]  [,19]  [,20] \n",
       "country ...   DK     IE     CH     NO     HK     BE     AT     SG     LU    \n",
       "count   ...     1113    811    761    708    618    617    597    555     62\n",
       "        [,21] \n",
       "country JP    \n",
       "count       40"
      ]
     },
     "metadata": {},
     "output_type": "display_data"
    }
   ],
   "source": [
    "# showing data table\n",
    "ks %>%\n",
    "  group_by(country) %>%\n",
    "  summarise(count = n()) %>%\n",
    "  arrange(-count) %>%\n",
    "  t()"
   ]
  },
  {
   "cell_type": "code",
   "execution_count": 6,
   "metadata": {},
   "outputs": [
    {
     "data": {},
     "metadata": {},
     "output_type": "display_data"
    },
    {
     "data": {
      "image/png": "[encoded data removed]",
      "text/plain": [
       "plot without title"
      ]
     },
     "metadata": {},
     "output_type": "display_data"
    }
   ],
   "source": [
    "# set plot size\n",
    "options(repr.plot.width=4, repr.plot.height=4)\n",
    "\n",
    "ks %>% \n",
    "  group_by(country) %>%\n",
    "  summarise(count = n()) %>%\n",
    "  ggplot(aes(x = reorder(country, count), y=count)) +\n",
    "  geom_bar(stat = \"identity\", fill = \"coral\", alpha = 0.8) + \n",
    "  labs(title = \"Project Count By Country\", x=\"\", y=\"\") + \n",
    "  coord_flip()"
   ]
  },
  {
   "cell_type": "markdown",
   "metadata": {},
   "source": [
    "It looks like 292,627 projects, which is about 77% of total is \"US\" project.    \n",
    "Next, I'm going to check launch date.    \n",
    "    "
   ]
  },
  {
   "cell_type": "code",
   "execution_count": 7,
   "metadata": {},
   "outputs": [
    {
     "data": {
      "text/html": [
       "<table>\n",
       "<tbody>\n",
       "\t<tr><th scope=row>year</th><td>1970 </td><td>2009 </td><td>2010 </td><td>2011 </td><td>2012 </td><td>2013 </td><td>2014 </td><td>2015 </td><td>2016 </td><td>2017 </td><td>2018 </td></tr>\n",
       "\t<tr><th scope=row>count</th><td>    7</td><td> 1329</td><td>10519</td><td>26237</td><td>41165</td><td>44851</td><td>67745</td><td>77300</td><td>57184</td><td>52200</td><td>  124</td></tr>\n",
       "</tbody>\n",
       "</table>\n"
      ],
      "text/latex": [
       "\\begin{tabular}{r|lllllllllll}\n",
       "\tyear & 1970  & 2009  & 2010  & 2011  & 2012  & 2013  & 2014  & 2015  & 2016  & 2017  & 2018 \\\\\n",
       "\tcount &     7 &  1329 & 10519 & 26237 & 41165 & 44851 & 67745 & 77300 & 57184 & 52200 &   124\\\\\n",
       "\\end{tabular}\n"
      ],
      "text/markdown": [
       "\n",
       "| year | 1970  | 2009  | 2010  | 2011  | 2012  | 2013  | 2014  | 2015  | 2016  | 2017  | 2018  | \n",
       "| count |     7 |  1329 | 10519 | 26237 | 41165 | 44851 | 67745 | 77300 | 57184 | 52200 |   124 | \n",
       "\n",
       "\n"
      ],
      "text/plain": [
       "      [,1]  [,2]  [,3]  [,4]  [,5]  [,6]  [,7]  [,8]  [,9]  [,10] [,11]\n",
       "year  1970  2009  2010  2011  2012  2013  2014  2015  2016  2017  2018 \n",
       "count     7  1329 10519 26237 41165 44851 67745 77300 57184 52200   124"
      ]
     },
     "metadata": {},
     "output_type": "display_data"
    }
   ],
   "source": [
    "# showing data table\n",
    "ks %>% \n",
    "  group_by(year) %>%\n",
    "  summarise(count = n()) %>%\n",
    "  t()"
   ]
  },
  {
   "cell_type": "code",
   "execution_count": 8,
   "metadata": {},
   "outputs": [
    {
     "data": {},
     "metadata": {},
     "output_type": "display_data"
    },
    {
     "data": {
      "image/png": "[encoded data removed]",
      "text/plain": [
       "plot without title"
      ]
     },
     "metadata": {},
     "output_type": "display_data"
    }
   ],
   "source": [
    "# set plot size\n",
    "options(repr.plot.width=6, repr.plot.height=3)\n",
    "\n",
    "ks %>% \n",
    "  group_by(year) %>%\n",
    "  summarise(count = n()) %>%\n",
    "  ggplot(aes(year, count)) +\n",
    "  geom_bar(stat = \"identity\", fill = \"royal blue\", alpha = 0.5) + \n",
    "  labs(title = \"Launched Year Distribution\", x = \"Launched Year\", y = \"Count\")"
   ]
  },
  {
   "cell_type": "markdown",
   "metadata": {},
   "source": [
    "Some launch date are 1970, which is obviously wrong.    \n",
    "Also, we see only 124 data for 2018, as 2018 is still ongoing (at least when the data is obtained).    \n",
    "Since these numbers are small, we can just drop 1970 and 2018, and keep 2009-2017 data.     \n",
    "\n",
    "\n",
    "Next, let's check \"state\" column which shows the result of the project."
   ]
  },
  {
   "cell_type": "code",
   "execution_count": 9,
   "metadata": {},
   "outputs": [
    {
     "data": {
      "text/html": [
       "<table>\n",
       "<tbody>\n",
       "\t<tr><th scope=row>state</th><td>failed    </td><td>successful</td><td>canceled  </td><td>undefined </td><td>live      </td><td>suspended </td></tr>\n",
       "\t<tr><th scope=row>count</th><td>197719    </td><td>133956    </td><td> 38779    </td><td>  3562    </td><td>  2799    </td><td>  1846    </td></tr>\n",
       "</tbody>\n",
       "</table>\n"
      ],
      "text/latex": [
       "\\begin{tabular}{r|llllll}\n",
       "\tstate & failed     & successful & canceled   & undefined  & live       & suspended \\\\\n",
       "\tcount & 197719     & 133956     &  38779     &   3562     &   2799     &   1846    \\\\\n",
       "\\end{tabular}\n"
      ],
      "text/markdown": [
       "\n",
       "| state | failed     | successful | canceled   | undefined  | live       | suspended  | \n",
       "| count | 197719     | 133956     |  38779     |   3562     |   2799     |   1846     | \n",
       "\n",
       "\n"
      ],
      "text/plain": [
       "      [,1]   [,2]       [,3]     [,4]      [,5]   [,6]     \n",
       "state failed successful canceled undefined live   suspended\n",
       "count 197719 133956      38779     3562      2799   1846   "
      ]
     },
     "metadata": {},
     "output_type": "display_data"
    }
   ],
   "source": [
    "# showing data table\n",
    "ks %>% \n",
    "  group_by(state) %>%\n",
    "  summarise(count = n()) %>%\n",
    "  arrange(-count) %>%\n",
    "  t()"
   ]
  },
  {
   "cell_type": "code",
   "execution_count": 10,
   "metadata": {},
   "outputs": [
    {
     "data": {},
     "metadata": {},
     "output_type": "display_data"
    },
    {
     "data": {
      "image/png": "[encoded data removed]",
      "text/plain": [
       "plot without title"
      ]
     },
     "metadata": {},
     "output_type": "display_data"
    }
   ],
   "source": [
    "# set plot size\n",
    "options(repr.plot.width=6, repr.plot.height=3)\n",
    "\n",
    "ks %>% \n",
    "  group_by(state) %>%\n",
    "  summarise(count = n()) %>%\n",
    "  ggplot(aes(reorder(state,desc(count)), count)) +\n",
    "  geom_bar(stat = \"identity\", fill = \"royal blue\", alpha = 0.5) + \n",
    "  labs(title = \"Project Results\", x = \"Result\", y = \"Count\")"
   ]
  },
  {
   "cell_type": "markdown",
   "metadata": {},
   "source": [
    "We see relatively small numbers of \"undifined\", \"live\" and \"suspended\" projects.      \n",
    "We can also drop these data and keep only \"successful\", \"failed\" and \"canceled\" result status.\n"
   ]
  },
  {
   "cell_type": "markdown",
   "metadata": {},
   "source": [
    "## Drop data\n",
    "\n",
    "Here, I'm going to drop some projects and keep those with launch date during 2009-2017 only.       \n",
    "Also going to keep those with results \"failed\", \"successful\", and \"canceled\" only and stored in ks_clean data frame.    \n"
   ]
  },
  {
   "cell_type": "code",
   "execution_count": 11,
   "metadata": {},
   "outputs": [],
   "source": [
    "ks_clean <- ks %>%\n",
    "  filter(year %in% c(\"2009\",\"2010\",\"2011\",\"2012\",\"2013\",\"2014\",\"2015\",\"2016\",\"2017\")) %>%\n",
    "  filter(state %in% c(\"failed\",\"successful\",\"canceled\"))\n",
    "\n",
    "ks_clean$year <- factor(ks_clean$year, levels = c(\"2009\",\"2010\",\"2011\",\"2012\",\"2013\",\"2014\",\"2015\",\"2016\",\"2017\"))\n",
    "ks_clean$state <- factor(ks_clean$state, levels = c(\"successful\",\"failed\",\"canceled\"))"
   ]
  },
  {
   "cell_type": "markdown",
   "metadata": {},
   "source": [
    "Now the data is cleaner."
   ]
  },
  {
   "cell_type": "markdown",
   "metadata": {},
   "source": [
    "## Trends\n"
   ]
  },
  {
   "cell_type": "markdown",
   "metadata": {},
   "source": [
    "As we've seen above launch date inspection, the number of projects increased from 2009 to 2015, then turned downward.      \n",
    "More specifically, the number jumped in 2014 and dropped in 2016.    \n",
    "By creating a cross table and facet chart, I'm going to check this by project result."
   ]
  },
  {
   "cell_type": "code",
   "execution_count": 12,
   "metadata": {},
   "outputs": [
    {
     "data": {
      "text/html": [
       "<table>\n",
       "<thead><tr><th scope=col>state</th><th scope=col>2009</th><th scope=col>2010</th><th scope=col>2011</th><th scope=col>2012</th><th scope=col>2013</th><th scope=col>2014</th><th scope=col>2015</th><th scope=col>2016</th><th scope=col>2017</th></tr></thead>\n",
       "<tbody>\n",
       "\t<tr><td>successful</td><td>579       </td><td>4593      </td><td>12171     </td><td>17892     </td><td>19415     </td><td>21107     </td><td>20971     </td><td>18766     </td><td>18462     </td></tr>\n",
       "\t<tr><td>failed    </td><td>600       </td><td>4984      </td><td>11878     </td><td>20588     </td><td>21686     </td><td>38199     </td><td>44301     </td><td>30526     </td><td>24957     </td></tr>\n",
       "\t<tr><td>canceled  </td><td>150       </td><td> 926      </td><td> 2144     </td><td> 2631     </td><td> 3690     </td><td> 7418     </td><td> 8927     </td><td> 7119     </td><td> 5766     </td></tr>\n",
       "</tbody>\n",
       "</table>\n"
      ],
      "text/latex": [
       "\\begin{tabular}{r|llllllllll}\n",
       " state & 2009 & 2010 & 2011 & 2012 & 2013 & 2014 & 2015 & 2016 & 2017\\\\\n",
       "\\hline\n",
       "\t successful & 579        & 4593       & 12171      & 17892      & 19415      & 21107      & 20971      & 18766      & 18462     \\\\\n",
       "\t failed     & 600        & 4984       & 11878      & 20588      & 21686      & 38199      & 44301      & 30526      & 24957     \\\\\n",
       "\t canceled   & 150        &  926       &  2144      &  2631      &  3690      &  7418      &  8927      &  7119      &  5766     \\\\\n",
       "\\end{tabular}\n"
      ],
      "text/markdown": [
       "\n",
       "state | 2009 | 2010 | 2011 | 2012 | 2013 | 2014 | 2015 | 2016 | 2017 | \n",
       "|---|---|---|\n",
       "| successful | 579        | 4593       | 12171      | 17892      | 19415      | 21107      | 20971      | 18766      | 18462      | \n",
       "| failed     | 600        | 4984       | 11878      | 20588      | 21686      | 38199      | 44301      | 30526      | 24957      | \n",
       "| canceled   | 150        |  926       |  2144      |  2631      |  3690      |  7418      |  8927      |  7119      |  5766      | \n",
       "\n",
       "\n"
      ],
      "text/plain": [
       "  state      2009 2010 2011  2012  2013  2014  2015  2016  2017 \n",
       "1 successful 579  4593 12171 17892 19415 21107 20971 18766 18462\n",
       "2 failed     600  4984 11878 20588 21686 38199 44301 30526 24957\n",
       "3 canceled   150   926  2144  2631  3690  7418  8927  7119  5766"
      ]
     },
     "metadata": {},
     "output_type": "display_data"
    }
   ],
   "source": [
    "# showing data table\n",
    "ks_clean %>% \n",
    "  group_by(state,year) %>%\n",
    "  summarise(count = n()) %>%\n",
    "  spread(year,count) %>%\n",
    "  arrange(state)"
   ]
  },
  {
   "cell_type": "code",
   "execution_count": 13,
   "metadata": {},
   "outputs": [
    {
     "data": {},
     "metadata": {},
     "output_type": "display_data"
    },
    {
     "data": {
      "image/png": "[encoded data removed]",
      "text/plain": [
       "plot without title"
      ]
     },
     "metadata": {},
     "output_type": "display_data"
    }
   ],
   "source": [
    "# set plot size\n",
    "options(repr.plot.width=8, repr.plot.height=3)\n",
    "\n",
    "ks_clean %>% \n",
    "  group_by(state,year) %>%\n",
    "  summarise(count = n()) %>%\n",
    "  ggplot(aes(year, count, fill = state)) +\n",
    "  geom_bar(stat = \"identity\") + \n",
    "  facet_wrap(~state, nrow=1) +\n",
    "  labs(title = \"# of Projects Trend By Project Result\", x = \"Launched Year\", y = \"Count\") +\n",
    "  scale_fill_discrete(name = \"Result\") +\n",
    "  theme(axis.text.x = element_text(size=rel(0.6)))"
   ]
  },
  {
   "cell_type": "markdown",
   "metadata": {},
   "source": [
    "Here, we see the trend is mostly driven by failed projects.    \n",
    "In other words, the number of projects jumped up in 2014 and 2015, but many of them failed in funding.     \n",
    "\n",
    "The number of failed projects jumped from 21,686 to 38,199 in 2014 and dropped from 44,301 to 30,526 in 2016.     \n",
    "The number of successful and canceled projects are more moderately went up and down.     \n",
    "\n",
    "Let's break down this by main category and see the trend for each of them.    "
   ]
  },
  {
   "cell_type": "code",
   "execution_count": 14,
   "metadata": {},
   "outputs": [
    {
     "data": {},
     "metadata": {},
     "output_type": "display_data"
    },
    {
     "data": {
      "image/png": "[encoded data removed]",
      "text/plain": [
       "plot without title"
      ]
     },
     "metadata": {},
     "output_type": "display_data"
    }
   ],
   "source": [
    "# set plot size\n",
    "options(repr.plot.width=8, repr.plot.height=12)\n",
    "\n",
    "ks_clean %>% \n",
    "  group_by(state,year,main_category) %>%\n",
    "  summarise(count = n()) %>%\n",
    "  ggplot(aes(year, count, fill = state)) +\n",
    "  geom_bar(stat = \"identity\") + \n",
    "  facet_grid(reorder(main_category,-count)~state) +\n",
    "  scale_fill_discrete(name = \"Result\") +\n",
    "  labs(title = \"# of Projects Trend By Category & Project Result\", x = \"Launched Year\", y = \"Count\")  +\n",
    "  theme(axis.text.x = element_text(size=rel(0.6)))"
   ]
  },
  {
   "cell_type": "markdown",
   "metadata": {},
   "source": [
    "Here is brief conclusion so far regarding the number of projects.      \n",
    "\n",
    "In some of the top categories like \"Film&Video\" or \"Music\", number of successful projects is decreasing after the peak in 2012 or 2013.     \n",
    "However in categories like \"Games\" or \"Design\", the number is increasing.     \n",
    "\n",
    "\n",
    "The number of failed projects jumped up in 2014 in categories like \"Technology\" or \"Food\".     \n",
    "In most of the top categories, the number of failed projects is decreasing after 2014-2015.     \n",
    "      \n",
    "In 2014 and 2015, there were lots of projects launched and failed in most categories.    \n",
    "So, we can assume that the success rate dropped during this time.\n"
   ]
  },
  {
   "cell_type": "markdown",
   "metadata": {},
   "source": [
    "## Success Rate\n",
    "\n",
    "As a last step, let's check the success rate for the top five main categories.     "
   ]
  },
  {
   "cell_type": "code",
   "execution_count": 15,
   "metadata": {},
   "outputs": [
    {
     "data": {
      "text/html": [
       "<table>\n",
       "<thead><tr><th scope=col>main_category</th></tr></thead>\n",
       "<tbody>\n",
       "\t<tr><td>Film &amp; Video</td></tr>\n",
       "\t<tr><td>Music       </td></tr>\n",
       "\t<tr><td>Publishing  </td></tr>\n",
       "\t<tr><td>Games       </td></tr>\n",
       "\t<tr><td>Technology  </td></tr>\n",
       "</tbody>\n",
       "</table>\n"
      ],
      "text/latex": [
       "\\begin{tabular}{r|l}\n",
       " main\\_category\\\\\n",
       "\\hline\n",
       "\t Film \\& Video\\\\\n",
       "\t Music       \\\\\n",
       "\t Publishing  \\\\\n",
       "\t Games       \\\\\n",
       "\t Technology  \\\\\n",
       "\\end{tabular}\n"
      ],
      "text/markdown": [
       "\n",
       "main_category | \n",
       "|---|---|---|---|---|\n",
       "| Film & Video | \n",
       "| Music        | \n",
       "| Publishing   | \n",
       "| Games        | \n",
       "| Technology   | \n",
       "\n",
       "\n"
      ],
      "text/plain": [
       "  main_category\n",
       "1 Film & Video \n",
       "2 Music        \n",
       "3 Publishing   \n",
       "4 Games        \n",
       "5 Technology   "
      ]
     },
     "metadata": {},
     "output_type": "display_data"
    }
   ],
   "source": [
    "# get top 5 categories\n",
    "top_cat <- \n",
    "ks_clean %>% \n",
    "  group_by(main_category) %>%\n",
    "  summarise(count = n()) %>%\n",
    "  arrange(desc(count))%>%\n",
    "  select(main_category) %>%\n",
    "  head(5)\n",
    "\n",
    "top_cat"
   ]
  },
  {
   "cell_type": "code",
   "execution_count": 16,
   "metadata": {},
   "outputs": [
    {
     "data": {
      "text/html": [
       "<table>\n",
       "<thead><tr><th scope=col>main_category</th><th scope=col>2009</th><th scope=col>2010</th><th scope=col>2011</th><th scope=col>2012</th><th scope=col>2013</th><th scope=col>2014</th><th scope=col>2015</th><th scope=col>2016</th><th scope=col>2017</th></tr></thead>\n",
       "<tbody>\n",
       "\t<tr><td>Film &amp; Video</td><td>0.3768997       </td><td>0.3998371       </td><td>0.4147287       </td><td>0.4015547       </td><td>0.4229921       </td><td>0.3715289       </td><td>0.3111019       </td><td>0.3510669       </td><td>0.3684211       </td></tr>\n",
       "\t<tr><td>Games       </td><td>0.5000000   </td><td>0.3004292   </td><td>0.3550000   </td><td>0.3389769   </td><td>0.3649277   </td><td>0.3318281   </td><td>0.3091108   </td><td>0.3755433   </td><td>0.4361896   </td></tr>\n",
       "\t<tr><td>Music       </td><td>0.5322034   </td><td>0.5255682   </td><td>0.5696337   </td><td>0.5582026   </td><td>0.5465352   </td><td>0.4450612   </td><td>0.3722024   </td><td>0.4382246   </td><td>0.4617235   </td></tr>\n",
       "\t<tr><td>Publishing  </td><td>0.4418605   </td><td>0.3153409   </td><td>0.3364403   </td><td>0.3065844   </td><td>0.3363793   </td><td>0.2844852   </td><td>0.2791454   </td><td>0.3310654   </td><td>0.3633979   </td></tr>\n",
       "\t<tr><td>Technology  </td><td>0.3166667   </td><td>0.2927928   </td><td>0.3076923   </td><td>0.4047323   </td><td>0.3700441   </td><td>0.1786217   </td><td>0.1675913   </td><td>0.1886547   </td><td>0.2101646   </td></tr>\n",
       "</tbody>\n",
       "</table>\n"
      ],
      "text/latex": [
       "\\begin{tabular}{r|llllllllll}\n",
       " main\\_category & 2009 & 2010 & 2011 & 2012 & 2013 & 2014 & 2015 & 2016 & 2017\\\\\n",
       "\\hline\n",
       "\t Film \\& Video & 0.3768997      & 0.3998371      & 0.4147287      & 0.4015547      & 0.4229921      & 0.3715289      & 0.3111019      & 0.3510669      & 0.3684211     \\\\\n",
       "\t Games        & 0.5000000    & 0.3004292    & 0.3550000    & 0.3389769    & 0.3649277    & 0.3318281    & 0.3091108    & 0.3755433    & 0.4361896   \\\\\n",
       "\t Music        & 0.5322034    & 0.5255682    & 0.5696337    & 0.5582026    & 0.5465352    & 0.4450612    & 0.3722024    & 0.4382246    & 0.4617235   \\\\\n",
       "\t Publishing   & 0.4418605    & 0.3153409    & 0.3364403    & 0.3065844    & 0.3363793    & 0.2844852    & 0.2791454    & 0.3310654    & 0.3633979   \\\\\n",
       "\t Technology   & 0.3166667    & 0.2927928    & 0.3076923    & 0.4047323    & 0.3700441    & 0.1786217    & 0.1675913    & 0.1886547    & 0.2101646   \\\\\n",
       "\\end{tabular}\n"
      ],
      "text/markdown": [
       "\n",
       "main_category | 2009 | 2010 | 2011 | 2012 | 2013 | 2014 | 2015 | 2016 | 2017 | \n",
       "|---|---|---|---|---|\n",
       "| Film & Video | 0.3768997    | 0.3998371    | 0.4147287    | 0.4015547    | 0.4229921    | 0.3715289    | 0.3111019    | 0.3510669    | 0.3684211    | \n",
       "| Games        | 0.5000000    | 0.3004292    | 0.3550000    | 0.3389769    | 0.3649277    | 0.3318281    | 0.3091108    | 0.3755433    | 0.4361896    | \n",
       "| Music        | 0.5322034    | 0.5255682    | 0.5696337    | 0.5582026    | 0.5465352    | 0.4450612    | 0.3722024    | 0.4382246    | 0.4617235    | \n",
       "| Publishing   | 0.4418605    | 0.3153409    | 0.3364403    | 0.3065844    | 0.3363793    | 0.2844852    | 0.2791454    | 0.3310654    | 0.3633979    | \n",
       "| Technology   | 0.3166667    | 0.2927928    | 0.3076923    | 0.4047323    | 0.3700441    | 0.1786217    | 0.1675913    | 0.1886547    | 0.2101646    | \n",
       "\n",
       "\n"
      ],
      "text/plain": [
       "  main_category 2009      2010      2011      2012      2013      2014     \n",
       "1 Film & Video  0.3768997 0.3998371 0.4147287 0.4015547 0.4229921 0.3715289\n",
       "2 Games         0.5000000 0.3004292 0.3550000 0.3389769 0.3649277 0.3318281\n",
       "3 Music         0.5322034 0.5255682 0.5696337 0.5582026 0.5465352 0.4450612\n",
       "4 Publishing    0.4418605 0.3153409 0.3364403 0.3065844 0.3363793 0.2844852\n",
       "5 Technology    0.3166667 0.2927928 0.3076923 0.4047323 0.3700441 0.1786217\n",
       "  2015      2016      2017     \n",
       "1 0.3111019 0.3510669 0.3684211\n",
       "2 0.3091108 0.3755433 0.4361896\n",
       "3 0.3722024 0.4382246 0.4617235\n",
       "4 0.2791454 0.3310654 0.3633979\n",
       "5 0.1675913 0.1886547 0.2101646"
      ]
     },
     "metadata": {},
     "output_type": "display_data"
    }
   ],
   "source": [
    "# showing data table\n",
    "ks_clean %>% \n",
    "  group_by(main_category,year) %>%\n",
    "  inner_join(top_cat, by = \"main_category\") %>%\n",
    "  summarise(success_rate = sum(case_when(state == \"successful\" ~ 1, TRUE ~ 0)) / n())%>%\n",
    "  spread(year, success_rate)"
   ]
  },
  {
   "cell_type": "code",
   "execution_count": 17,
   "metadata": {},
   "outputs": [
    {
     "data": {},
     "metadata": {},
     "output_type": "display_data"
    },
    {
     "data": {
      "image/png": "[encoded data removed]",
      "text/plain": [
       "plot without title"
      ]
     },
     "metadata": {},
     "output_type": "display_data"
    }
   ],
   "source": [
    "# set plot size\n",
    "options(repr.plot.width=8, repr.plot.height=4)\n",
    "\n",
    "ks_clean %>% \n",
    "  group_by(main_category, year) %>%\n",
    "  inner_join(top_cat, by = \"main_category\") %>%\n",
    "  summarise(success_rate = sum(case_when(state == \"successful\" ~ 1, TRUE ~ 0)) / n())%>%\n",
    "  #spread(year, success_rate) %>%\n",
    "  ggplot(aes(year,success_rate, color = main_category)) + \n",
    "  geom_point(size = 3) + \n",
    "  geom_line(aes(group = main_category), size = 1) +\n",
    "  scale_color_discrete(name = \"Category\") +\n",
    "  labs(title = \"Success Rate Trend By Category\", x = \"Launched Year\", y = \"Success Rate\")"
   ]
  },
  {
   "cell_type": "markdown",
   "metadata": {},
   "source": [
    "We can confirm the drop in 2014 and 2015 here.    \n",
    "Also, we see some trends from different angle.   \n",
    "\n",
    "Technology projects have way lower success rate from other categories.    \n",
    "Music projects have always had the highest success rate, and it was over 50% until 2014.    \n",
    "Game projects have had constant success rate 30-40% during 2010-2016 period.\n"
   ]
  },
  {
   "cell_type": "code",
   "execution_count": null,
   "metadata": {},
   "outputs": [],
   "source": []
  }
 ],
 "metadata": {
  "kernelspec": {
   "display_name": "R",
   "language": "R",
   "name": "ir"
  },
  "language_info": {
   "codemirror_mode": "r",
   "file_extension": ".r",
   "mimetype": "text/x-r-source",
   "name": "R",
   "pygments_lexer": "r",
   "version": "3.5.1"
  }
 },
 "nbformat": 4,
 "nbformat_minor": 2
}
